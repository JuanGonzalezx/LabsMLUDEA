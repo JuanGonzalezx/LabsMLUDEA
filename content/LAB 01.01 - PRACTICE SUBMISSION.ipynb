{
  "cells": [
    {
      "cell_type": "markdown",
      "metadata": {
        "id": "view-in-github",
        "colab_type": "text"
      },
      "source": [
        "<a href=\"https://colab.research.google.com/github/JuanGonzalezx/LabsMLUDEA/blob/main/content/LAB%2001.01%20-%20PRACTICE%20SUBMISSION.ipynb\" target=\"_parent\"><img src=\"https://colab.research.google.com/assets/colab-badge.svg\" alt=\"Open In Colab\"/></a>"
      ]
    },
    {
      "cell_type": "markdown",
      "metadata": {
        "id": "U-QUNhJdD6YI"
      },
      "source": [
        "# LAB 01.01 - Practice submission"
      ]
    },
    {
      "cell_type": "code",
      "execution_count": 1,
      "metadata": {
        "id": "4F-6ehCYD6YQ",
        "outputId": "65730497-8e36-45b2-d345-3603a5611406",
        "colab": {
          "base_uri": "https://localhost:8080/",
          "height": 76
        }
      },
      "outputs": [
        {
          "output_type": "display_data",
          "data": {
            "text/plain": [
              "<IPython.core.display.HTML object>"
            ],
            "text/html": [
              "\n",
              "<meta name=\"google-signin-client_id\"\n",
              "      content=\"461673936472-kdjosv61up3ac1ajeuq6qqu72upilmls.apps.googleusercontent.com\"/>\n",
              "<script src=\"https://apis.google.com/js/client:platform.js?onload=google_button_start\"></script>\n",
              "    "
            ]
          },
          "metadata": {}
        },
        {
          "output_type": "stream",
          "name": "stdout",
          "text": [
            "replicating local resources\n"
          ]
        },
        {
          "output_type": "execute_result",
          "data": {
            "text/plain": [
              "<IPython.core.display.HTML object>"
            ],
            "text/html": [
              "<h3>See <a href='https://m5knaekxo6.execute-api.us-west-2.amazonaws.com/dev-v0001/rlxmooc/web/login' target='_blank'>my courses and progress</a></h2>"
            ]
          },
          "metadata": {},
          "execution_count": 1
        }
      ],
      "source": [
        "!wget --no-cache -O init.py -q https://raw.githubusercontent.com/rramosp/ai4eng.v1/main/content/init.py\n",
        "import init; init.init(force_download=False); init.get_weblink()\n"
      ]
    },
    {
      "cell_type": "code",
      "execution_count": 2,
      "metadata": {
        "id": "OJJqW4_6D6YU",
        "outputId": "6664ed71-7db1-457d-bda9-e14a5b31fb1a",
        "colab": {
          "base_uri": "https://localhost:8080/",
          "height": 74,
          "referenced_widgets": [
            "08a3b9e87d6e4344bf1b80da35402b43",
            "c0c38fcfd1454b9bacd1079cb88b86e8",
            "a4e3c5eaac0f4e7b805d72122f27e87a",
            "d961dc7f750f4f2eb9ee62c0e5bd7133",
            "18e33843babf44829cb960bae38112b0",
            "eca63fefe6c34fdeb2db06e8755b76b3",
            "a071f17bb62c4501a7850e12d4601f56",
            "221ce3ec3e2c43d0957dc51549a6eda7",
            "452874c2a98545b3b8038c57be0d88c5",
            "ad84e762584d41ada57aa98236896677",
            "e74b124a837742f0878252a080c3e8d1",
            "04fcf8fc353945ea91fecff857da28e8",
            "e265c48dda42451eaa4ca7ab33bf9dc5",
            "cc1dd2db9e4848a6b26ebc646c4c5f0d",
            "23903c20b53a4613899f2b4db35fe1d8",
            "07a58bde51254777874ef54759f774b6",
            "cd92353029144564b95a8f177cef4ede",
            "2c22c49382244a60b486e4e9fd1677e9",
            "9d823c6ead64407a8c99faf2be3b9de0"
          ]
        }
      },
      "outputs": [
        {
          "output_type": "display_data",
          "data": {
            "text/plain": [
              "<IPython.core.display.HTML object>"
            ],
            "text/html": [
              "\n",
              "\n",
              "<script>\n",
              "console.log(\"loading...\")\n",
              "function http_post(url, data, callback){\n",
              "\n",
              "    var xhttp = new XMLHttpRequest();\n",
              "\n",
              "    xhttp.onreadystatechange = function() {\n",
              "        if (this.readyState == 4) {\n",
              "            if (this.status!=200) {\n",
              "                var t = JSON.parse(this.responseText)\n",
              "                if (\"error\" in t) {\n",
              "                    window.alert(t[\"error\"])\n",
              "                } else {\n",
              "                    console.log(this.responseText)\n",
              "                    window.alert(\"Unknown error, check the javascript console\")\n",
              "                }\n",
              "            } else {\n",
              "                callback(JSON.parse(this.responseText))\n",
              "            }\n",
              "        }\n",
              "    }    \n",
              "    console.log(\"POSTING TO\", url)\n",
              "    xhttp.open(\"POST\", url, true);\n",
              "    if (typeof data == 'undefined') {\n",
              "        xhttp.send()\n",
              "    } else {\n",
              "        xhttp.setRequestHeader(\"Content-type\", \"application/json\");\n",
              "        xhttp.send( JSON.stringify(data) );    \n",
              "    }\n",
              "}\n",
              "\n",
              "function google_button_start() {\n",
              "      window.google_code = '';\n",
              "      gapi.load('auth2', function() {\n",
              "        auth2 = gapi.auth2.init({\n",
              "          client_id: window.google_client_id,\n",
              "        });\n",
              "      });\n",
              "    }\n",
              "    \n",
              "    \n",
              "function user_info_callback(user_info) {\n",
              "    window.user_info = user_info\n",
              "    window.google_token = user_info['google_token']\n",
              "    var s = \"you are \"+user_info['email'] +\" .... wait for the cell below to complete signup\"\n",
              "    s = '-----------\\n'+s+'\\n-----------'\n",
              "    var cell = Jupyter.notebook.get_cell(window.current_cell_idx)    \n",
              "    cell.clear_output()\n",
              "    cell.output_area.append_output({output_type: \"stream\", text: s, name: \"stdout\"})\n",
              "    IPython.notebook.kernel.execute(\"global google_token; google_token = '\"+window.google_token+\"'\");\n",
              "    insert_login_cell()\n",
              "    var next_cell = Jupyter.notebook.get_cell(window.current_cell_idx+1)    \n",
              "    next_cell.execute()\n",
              "}\n",
              "\n",
              "\n",
              "window.user_info_callback = user_info_callback\n",
              " \n",
              "function insert_login_cell() {\n",
              "\n",
              "    var cell_idx = window.current_cell_idx\n",
              "    var cell = Jupyter.notebook.get_cell(window.current_cell_idx+1)\n",
              "    var next_cell_content = JSON.parse(JSON.stringify(cell))['source']\n",
              "    \n",
              "    s = \"student = session.Session(init.endpoint).login(course_id='ai4eng.v1\\S*', lab_id='L01.01', google_token=google_token)\"\n",
              "    if (next_cell_content!==s) {\n",
              "        if (!next_cell_content.includes(\"session.Session\")) {\n",
              "            Jupyter.notebook.insert_cell_below('code', cell_idx)\n",
              "        }\n",
              "        var cell = Jupyter.notebook.get_cell(cell_idx+1)\n",
              "        s = \"student = session.Session(init.endpoint).login(course_id=init.course_id, lab_id='L01.01', google_token=google_token)\"\n",
              "        cell.set_text(s)\n",
              "    }\n",
              "\n",
              "} \n",
              " \n",
              "function google_button_callback(code) {\n",
              "    var cell = Jupyter.notebook.get_cell(window.current_cell_idx)    \n",
              "    cell.clear_output()\n",
              "    cell.output_area.append_output({output_type: \"stream\", text: \"-----------\\nauthenticating ... please wait\\n-----------\", name: \"stdout\"})\n",
              "\n",
              "    window.google_code = code['code']  \n",
              "    \n",
              "    IPython.notebook.kernel.execute(\"global google_code; google_code = '\"+window.google_code+\"'\");\n",
              "    \n",
              "    data = {'google_code': code['code'],\n",
              "            'redirect_uri': window.location.origin}            \n",
              "                        \n",
              "            \n",
              "    r = http_post(\"https://m5knaekxo6.execute-api.us-west-2.amazonaws.com/dev-v0001/rlxmooc/api\"+\"/gu\", data=data, callback=window.user_info_callback)\n",
              "}\n",
              "    \n",
              "</script>\n",
              "\n",
              "<style>\n",
              ".hidden {\n",
              "  visibility: hidden;\n",
              "}\n",
              "\n",
              ".google_button { \n",
              "    color:black ; \n",
              "    font-size:100%;\n",
              "    background: url('https://developers-dot-devsite-v2-prod.appspot.com/identity/sign-in/g-normal.png') transparent 5px 50% no-repeat;\n",
              "    display: inline-block;\n",
              "    width: 200px;\n",
              "    height: 50px;\n",
              "    vertical-align: middle;\n",
              "    border: thin solid #888;\n",
              "    white-space: nowrap;\n",
              "    vertical-align: middle;\n",
              "}\n",
              "\n",
              ".login_button { \n",
              "    color:black ; \n",
              "    font-size:100%;\n",
              "    background: transparent;\n",
              "    display: inline-block;\n",
              "    vertical-align: middle;\n",
              "    border: thin solid #888;\n",
              "    white-space: nowrap;\n",
              "    vertical-align: middle;\n",
              "}\n",
              "</style>\n",
              "        "
            ]
          },
          "metadata": {}
        },
        {
          "output_type": "display_data",
          "data": {
            "text/plain": [
              "HBox(children=(VBox(children=(Text(value='', description='email', layout=Layout(height='25px', width='300px'))…"
            ],
            "application/vnd.jupyter.widget-view+json": {
              "version_major": 2,
              "version_minor": 0,
              "model_id": "08a3b9e87d6e4344bf1b80da35402b43"
            }
          },
          "metadata": {}
        },
        {
          "output_type": "display_data",
          "data": {
            "text/plain": [
              "<IPython.core.display.Javascript object>"
            ],
            "application/javascript": [
              "\n",
              "        var cell_element = this.element.parents('.cell');\n",
              "        window.current_cell_idx = Jupyter.notebook.get_cell_elements().index(cell_element);    \n",
              "        "
            ]
          },
          "metadata": {}
        }
      ],
      "source": [
        "import inspect\n",
        "from local.lib.rlxmoocapi import session\n",
        "session.LoginSequence(endpoint=init.endpoint, course_id=init.course_id, lab_id=\"L01.01\", varname=\"student\");"
      ]
    },
    {
      "cell_type": "markdown",
      "metadata": {
        "id": "i5OyF9HXD6YW"
      },
      "source": [
        "### Ejercicio 1: Suma dos matrices"
      ]
    },
    {
      "cell_type": "markdown",
      "metadata": {
        "id": "2509VA9pD6YW"
      },
      "source": [
        "Completa la función `suma_matrices` para que, dadas dos arrays numpy cualquiera devuelva la suma elemento a elemento.\n",
        "\n",
        "#### Ejemplo de ejecución\n",
        "\n",
        "    > s = np.array([1,2,3])\n",
        "    > t = np.array([4,5,6])\n",
        "    > suma_matrices(s,t)\n",
        "    \n",
        "      [5 7 9]\n",
        "     \n",
        "_Sugerencia_: completa el código de la siguiente manera:\n",
        "\n",
        "    def suma_matrices(a,b):\n",
        "       ## --- TU CODIGO AQUI ---\n",
        "       result = a + b\n",
        "       return result"
      ]
    },
    {
      "cell_type": "code",
      "execution_count": null,
      "metadata": {
        "id": "6ytVATfmD6YX"
      },
      "outputs": [],
      "source": [
        "\n",
        "def suma_matrices(a,b):\n",
        "    ## --- TU CODIGO AQUI ---\n",
        "    result = ....\n",
        "    return result\n",
        "\n"
      ]
    },
    {
      "cell_type": "markdown",
      "metadata": {
        "id": "mNOnFMGgD6YZ"
      },
      "source": [
        "comprueba manualmente tu código"
      ]
    },
    {
      "cell_type": "code",
      "execution_count": null,
      "metadata": {
        "id": "9n_GfbK7D6Ya"
      },
      "outputs": [],
      "source": [
        "import numpy as np\n",
        "a = np.random.randint(10, size=(3,2))\n",
        "b = np.random.randint(10, size=(3,2))\n",
        "print (a)\n",
        "print (b)\n",
        "print (suma_matrices(a,b))"
      ]
    },
    {
      "cell_type": "markdown",
      "metadata": {
        "id": "kFhZyiVED6Yb"
      },
      "source": [
        "#### registra tu solución en línea"
      ]
    },
    {
      "cell_type": "code",
      "execution_count": null,
      "metadata": {
        "id": "B1qMwlTND6Yc"
      },
      "outputs": [],
      "source": [
        "student.submit_task(globals(), task_id=\"task_01\");"
      ]
    },
    {
      "cell_type": "code",
      "execution_count": null,
      "metadata": {
        "id": "AOFK7u9qD6Yd"
      },
      "outputs": [],
      "source": []
    },
    {
      "cell_type": "code",
      "execution_count": null,
      "metadata": {
        "id": "N9XSNfDBD6Yd"
      },
      "outputs": [],
      "source": []
    },
    {
      "cell_type": "markdown",
      "metadata": {
        "id": "1DQ7_LKWD6Yd"
      },
      "source": [
        "### Ejercicio 2: Realiza un cálculo"
      ]
    },
    {
      "cell_type": "markdown",
      "metadata": {
        "id": "Zal18ylxD6Ye"
      },
      "source": [
        "En este ejercicio, al ejecutar la celda de más abajo, se generará una lista de número aleatorios.\n",
        "\n",
        "Tendrás que calcular el valor promedio de la lista y asignarlo a la variable `avg` más abajo.\n",
        "\n",
        "Puedes usar el método que quieras para realizar el cálculo (a mano, excel, python, etc.) lo que importa es el valor que obtengas.\n"
      ]
    },
    {
      "cell_type": "code",
      "execution_count": null,
      "metadata": {
        "id": "kYqGQx67D6Ye"
      },
      "outputs": [],
      "source": [
        "import numpy as np\n",
        "rlist = np.random.randint(100, size=10)\n",
        "rlist"
      ]
    },
    {
      "cell_type": "markdown",
      "metadata": {
        "id": "zzQZK0zaD6Yf"
      },
      "source": [
        "#### tu solución"
      ]
    },
    {
      "cell_type": "code",
      "execution_count": null,
      "metadata": {
        "id": "1FIpQtBRD6Yf"
      },
      "outputs": [],
      "source": [
        "avg = ..."
      ]
    },
    {
      "cell_type": "markdown",
      "metadata": {
        "id": "rBlVk9iJD6Yf"
      },
      "source": [
        "#### registra tu solución en línea"
      ]
    },
    {
      "cell_type": "code",
      "execution_count": null,
      "metadata": {
        "id": "pYMlubMZD6Yf"
      },
      "outputs": [],
      "source": [
        "student.submit_task(globals(), task_id=\"task_02\");"
      ]
    },
    {
      "cell_type": "code",
      "execution_count": null,
      "metadata": {
        "id": "Y0Xi0BTgD6Yg"
      },
      "outputs": [],
      "source": []
    },
    {
      "cell_type": "code",
      "execution_count": null,
      "metadata": {
        "id": "0ZYaRdCoD6Yg"
      },
      "outputs": [],
      "source": []
    }
  ],
  "metadata": {
    "kernelspec": {
      "display_name": "Python 3",
      "language": "python",
      "name": "python3"
    },
    "language_info": {
      "codemirror_mode": {
        "name": "ipython",
        "version": 3
      },
      "file_extension": ".py",
      "mimetype": "text/x-python",
      "name": "python",
      "nbconvert_exporter": "python",
      "pygments_lexer": "ipython3",
      "version": "3.7.3"
    },
    "toc": {
      "toc_cell": false,
      "toc_number_sections": true,
      "toc_threshold": 6,
      "toc_window_display": false
    },
    "colab": {
      "provenance": [],
      "include_colab_link": true
    },
    "widgets": {
      "application/vnd.jupyter.widget-state+json": {
        "08a3b9e87d6e4344bf1b80da35402b43": {
          "model_module": "@jupyter-widgets/controls",
          "model_name": "HBoxModel",
          "model_module_version": "1.5.0",
          "state": {
            "_dom_classes": [],
            "_model_module": "@jupyter-widgets/controls",
            "_model_module_version": "1.5.0",
            "_model_name": "HBoxModel",
            "_view_count": null,
            "_view_module": "@jupyter-widgets/controls",
            "_view_module_version": "1.5.0",
            "_view_name": "HBoxView",
            "box_style": "",
            "children": [
              "IPY_MODEL_c0c38fcfd1454b9bacd1079cb88b86e8",
              "IPY_MODEL_a4e3c5eaac0f4e7b805d72122f27e87a",
              "IPY_MODEL_d961dc7f750f4f2eb9ee62c0e5bd7133",
              "IPY_MODEL_18e33843babf44829cb960bae38112b0"
            ],
            "layout": "IPY_MODEL_eca63fefe6c34fdeb2db06e8755b76b3"
          }
        },
        "c0c38fcfd1454b9bacd1079cb88b86e8": {
          "model_module": "@jupyter-widgets/controls",
          "model_name": "VBoxModel",
          "model_module_version": "1.5.0",
          "state": {
            "_dom_classes": [],
            "_model_module": "@jupyter-widgets/controls",
            "_model_module_version": "1.5.0",
            "_model_name": "VBoxModel",
            "_view_count": null,
            "_view_module": "@jupyter-widgets/controls",
            "_view_module_version": "1.5.0",
            "_view_name": "VBoxView",
            "box_style": "",
            "children": [
              "IPY_MODEL_a071f17bb62c4501a7850e12d4601f56",
              "IPY_MODEL_221ce3ec3e2c43d0957dc51549a6eda7"
            ],
            "layout": "IPY_MODEL_452874c2a98545b3b8038c57be0d88c5"
          }
        },
        "a4e3c5eaac0f4e7b805d72122f27e87a": {
          "model_module": "@jupyter-widgets/controls",
          "model_name": "ButtonModel",
          "model_module_version": "1.5.0",
          "state": {
            "_dom_classes": [
              "login_button"
            ],
            "_model_module": "@jupyter-widgets/controls",
            "_model_module_version": "1.5.0",
            "_model_name": "ButtonModel",
            "_view_count": null,
            "_view_module": "@jupyter-widgets/controls",
            "_view_module_version": "1.5.0",
            "_view_name": "ButtonView",
            "button_style": "",
            "description": "Login with email",
            "disabled": false,
            "icon": "",
            "layout": "IPY_MODEL_ad84e762584d41ada57aa98236896677",
            "style": "IPY_MODEL_e74b124a837742f0878252a080c3e8d1",
            "tooltip": ""
          }
        },
        "d961dc7f750f4f2eb9ee62c0e5bd7133": {
          "model_module": "@jupyter-widgets/controls",
          "model_name": "HTMLModel",
          "model_module_version": "1.5.0",
          "state": {
            "_dom_classes": [],
            "_model_module": "@jupyter-widgets/controls",
            "_model_module_version": "1.5.0",
            "_model_name": "HTMLModel",
            "_view_count": null,
            "_view_module": "@jupyter-widgets/controls",
            "_view_module_version": "1.5.0",
            "_view_name": "HTMLView",
            "description": "",
            "description_tooltip": null,
            "layout": "IPY_MODEL_04fcf8fc353945ea91fecff857da28e8",
            "placeholder": "​",
            "style": "IPY_MODEL_e265c48dda42451eaa4ca7ab33bf9dc5",
            "value": "<center><big>or</big></center>"
          }
        },
        "18e33843babf44829cb960bae38112b0": {
          "model_module": "@jupyter-widgets/controls",
          "model_name": "ButtonModel",
          "model_module_version": "1.5.0",
          "state": {
            "_dom_classes": [
              "google_button"
            ],
            "_model_module": "@jupyter-widgets/controls",
            "_model_module_version": "1.5.0",
            "_model_name": "ButtonModel",
            "_view_count": null,
            "_view_module": "@jupyter-widgets/controls",
            "_view_module_version": "1.5.0",
            "_view_name": "ButtonView",
            "button_style": "",
            "description": "Login with Google",
            "disabled": false,
            "icon": "",
            "layout": "IPY_MODEL_cc1dd2db9e4848a6b26ebc646c4c5f0d",
            "style": "IPY_MODEL_23903c20b53a4613899f2b4db35fe1d8",
            "tooltip": ""
          }
        },
        "eca63fefe6c34fdeb2db06e8755b76b3": {
          "model_module": "@jupyter-widgets/base",
          "model_name": "LayoutModel",
          "model_module_version": "1.2.0",
          "state": {
            "_model_module": "@jupyter-widgets/base",
            "_model_module_version": "1.2.0",
            "_model_name": "LayoutModel",
            "_view_count": null,
            "_view_module": "@jupyter-widgets/base",
            "_view_module_version": "1.2.0",
            "_view_name": "LayoutView",
            "align_content": null,
            "align_items": null,
            "align_self": null,
            "border": null,
            "bottom": null,
            "display": null,
            "flex": null,
            "flex_flow": null,
            "grid_area": null,
            "grid_auto_columns": null,
            "grid_auto_flow": null,
            "grid_auto_rows": null,
            "grid_column": null,
            "grid_gap": null,
            "grid_row": null,
            "grid_template_areas": null,
            "grid_template_columns": null,
            "grid_template_rows": null,
            "height": null,
            "justify_content": null,
            "justify_items": null,
            "left": null,
            "margin": null,
            "max_height": null,
            "max_width": null,
            "min_height": null,
            "min_width": null,
            "object_fit": null,
            "object_position": null,
            "order": null,
            "overflow": null,
            "overflow_x": null,
            "overflow_y": null,
            "padding": null,
            "right": null,
            "top": null,
            "visibility": null,
            "width": null
          }
        },
        "a071f17bb62c4501a7850e12d4601f56": {
          "model_module": "@jupyter-widgets/controls",
          "model_name": "TextModel",
          "model_module_version": "1.5.0",
          "state": {
            "_dom_classes": [],
            "_model_module": "@jupyter-widgets/controls",
            "_model_module_version": "1.5.0",
            "_model_name": "TextModel",
            "_view_count": null,
            "_view_module": "@jupyter-widgets/controls",
            "_view_module_version": "1.5.0",
            "_view_name": "TextView",
            "continuous_update": true,
            "description": "email",
            "description_tooltip": null,
            "disabled": false,
            "layout": "IPY_MODEL_07a58bde51254777874ef54759f774b6",
            "placeholder": "​",
            "style": "IPY_MODEL_cd92353029144564b95a8f177cef4ede",
            "value": ""
          }
        },
        "221ce3ec3e2c43d0957dc51549a6eda7": {
          "model_module": "@jupyter-widgets/controls",
          "model_name": "PasswordModel",
          "model_module_version": "1.5.0",
          "state": {
            "_dom_classes": [],
            "_model_module": "@jupyter-widgets/controls",
            "_model_module_version": "1.5.0",
            "_model_name": "PasswordModel",
            "_view_count": null,
            "_view_module": "@jupyter-widgets/controls",
            "_view_module_version": "1.5.0",
            "_view_name": "PasswordView",
            "continuous_update": true,
            "description": "password",
            "description_tooltip": null,
            "disabled": false,
            "layout": "IPY_MODEL_2c22c49382244a60b486e4e9fd1677e9",
            "placeholder": "​",
            "style": "IPY_MODEL_9d823c6ead64407a8c99faf2be3b9de0",
            "value": ""
          }
        },
        "452874c2a98545b3b8038c57be0d88c5": {
          "model_module": "@jupyter-widgets/base",
          "model_name": "LayoutModel",
          "model_module_version": "1.2.0",
          "state": {
            "_model_module": "@jupyter-widgets/base",
            "_model_module_version": "1.2.0",
            "_model_name": "LayoutModel",
            "_view_count": null,
            "_view_module": "@jupyter-widgets/base",
            "_view_module_version": "1.2.0",
            "_view_name": "LayoutView",
            "align_content": null,
            "align_items": null,
            "align_self": null,
            "border": null,
            "bottom": null,
            "display": null,
            "flex": null,
            "flex_flow": null,
            "grid_area": null,
            "grid_auto_columns": null,
            "grid_auto_flow": null,
            "grid_auto_rows": null,
            "grid_column": null,
            "grid_gap": null,
            "grid_row": null,
            "grid_template_areas": null,
            "grid_template_columns": null,
            "grid_template_rows": null,
            "height": null,
            "justify_content": null,
            "justify_items": null,
            "left": null,
            "margin": null,
            "max_height": null,
            "max_width": null,
            "min_height": null,
            "min_width": null,
            "object_fit": null,
            "object_position": null,
            "order": null,
            "overflow": null,
            "overflow_x": null,
            "overflow_y": null,
            "padding": null,
            "right": null,
            "top": null,
            "visibility": null,
            "width": null
          }
        },
        "ad84e762584d41ada57aa98236896677": {
          "model_module": "@jupyter-widgets/base",
          "model_name": "LayoutModel",
          "model_module_version": "1.2.0",
          "state": {
            "_model_module": "@jupyter-widgets/base",
            "_model_module_version": "1.2.0",
            "_model_name": "LayoutModel",
            "_view_count": null,
            "_view_module": "@jupyter-widgets/base",
            "_view_module_version": "1.2.0",
            "_view_name": "LayoutView",
            "align_content": null,
            "align_items": null,
            "align_self": null,
            "border": null,
            "bottom": null,
            "display": null,
            "flex": null,
            "flex_flow": null,
            "grid_area": null,
            "grid_auto_columns": null,
            "grid_auto_flow": null,
            "grid_auto_rows": null,
            "grid_column": null,
            "grid_gap": null,
            "grid_row": null,
            "grid_template_areas": null,
            "grid_template_columns": null,
            "grid_template_rows": null,
            "height": "53px",
            "justify_content": null,
            "justify_items": null,
            "left": null,
            "margin": null,
            "max_height": null,
            "max_width": null,
            "min_height": null,
            "min_width": null,
            "object_fit": null,
            "object_position": null,
            "order": null,
            "overflow": null,
            "overflow_x": null,
            "overflow_y": null,
            "padding": null,
            "right": null,
            "top": null,
            "visibility": null,
            "width": "150px"
          }
        },
        "e74b124a837742f0878252a080c3e8d1": {
          "model_module": "@jupyter-widgets/controls",
          "model_name": "ButtonStyleModel",
          "model_module_version": "1.5.0",
          "state": {
            "_model_module": "@jupyter-widgets/controls",
            "_model_module_version": "1.5.0",
            "_model_name": "ButtonStyleModel",
            "_view_count": null,
            "_view_module": "@jupyter-widgets/base",
            "_view_module_version": "1.2.0",
            "_view_name": "StyleView",
            "button_color": null,
            "font_weight": ""
          }
        },
        "04fcf8fc353945ea91fecff857da28e8": {
          "model_module": "@jupyter-widgets/base",
          "model_name": "LayoutModel",
          "model_module_version": "1.2.0",
          "state": {
            "_model_module": "@jupyter-widgets/base",
            "_model_module_version": "1.2.0",
            "_model_name": "LayoutModel",
            "_view_count": null,
            "_view_module": "@jupyter-widgets/base",
            "_view_module_version": "1.2.0",
            "_view_name": "LayoutView",
            "align_content": null,
            "align_items": null,
            "align_self": null,
            "border": null,
            "bottom": null,
            "display": null,
            "flex": null,
            "flex_flow": null,
            "grid_area": null,
            "grid_auto_columns": null,
            "grid_auto_flow": null,
            "grid_auto_rows": null,
            "grid_column": null,
            "grid_gap": null,
            "grid_row": null,
            "grid_template_areas": null,
            "grid_template_columns": null,
            "grid_template_rows": null,
            "height": null,
            "justify_content": null,
            "justify_items": null,
            "left": null,
            "margin": null,
            "max_height": null,
            "max_width": null,
            "min_height": null,
            "min_width": null,
            "object_fit": null,
            "object_position": null,
            "order": null,
            "overflow": null,
            "overflow_x": null,
            "overflow_y": null,
            "padding": null,
            "right": null,
            "top": null,
            "visibility": null,
            "width": "100px"
          }
        },
        "e265c48dda42451eaa4ca7ab33bf9dc5": {
          "model_module": "@jupyter-widgets/controls",
          "model_name": "DescriptionStyleModel",
          "model_module_version": "1.5.0",
          "state": {
            "_model_module": "@jupyter-widgets/controls",
            "_model_module_version": "1.5.0",
            "_model_name": "DescriptionStyleModel",
            "_view_count": null,
            "_view_module": "@jupyter-widgets/base",
            "_view_module_version": "1.2.0",
            "_view_name": "StyleView",
            "description_width": ""
          }
        },
        "cc1dd2db9e4848a6b26ebc646c4c5f0d": {
          "model_module": "@jupyter-widgets/base",
          "model_name": "LayoutModel",
          "model_module_version": "1.2.0",
          "state": {
            "_model_module": "@jupyter-widgets/base",
            "_model_module_version": "1.2.0",
            "_model_name": "LayoutModel",
            "_view_count": null,
            "_view_module": "@jupyter-widgets/base",
            "_view_module_version": "1.2.0",
            "_view_name": "LayoutView",
            "align_content": null,
            "align_items": null,
            "align_self": null,
            "border": null,
            "bottom": null,
            "display": null,
            "flex": null,
            "flex_flow": null,
            "grid_area": null,
            "grid_auto_columns": null,
            "grid_auto_flow": null,
            "grid_auto_rows": null,
            "grid_column": null,
            "grid_gap": null,
            "grid_row": null,
            "grid_template_areas": null,
            "grid_template_columns": null,
            "grid_template_rows": null,
            "height": "53px",
            "justify_content": null,
            "justify_items": null,
            "left": null,
            "margin": null,
            "max_height": null,
            "max_width": null,
            "min_height": null,
            "min_width": null,
            "object_fit": null,
            "object_position": null,
            "order": null,
            "overflow": null,
            "overflow_x": null,
            "overflow_y": null,
            "padding": null,
            "right": null,
            "top": null,
            "visibility": null,
            "width": "200px"
          }
        },
        "23903c20b53a4613899f2b4db35fe1d8": {
          "model_module": "@jupyter-widgets/controls",
          "model_name": "ButtonStyleModel",
          "model_module_version": "1.5.0",
          "state": {
            "_model_module": "@jupyter-widgets/controls",
            "_model_module_version": "1.5.0",
            "_model_name": "ButtonStyleModel",
            "_view_count": null,
            "_view_module": "@jupyter-widgets/base",
            "_view_module_version": "1.2.0",
            "_view_name": "StyleView",
            "button_color": null,
            "font_weight": ""
          }
        },
        "07a58bde51254777874ef54759f774b6": {
          "model_module": "@jupyter-widgets/base",
          "model_name": "LayoutModel",
          "model_module_version": "1.2.0",
          "state": {
            "_model_module": "@jupyter-widgets/base",
            "_model_module_version": "1.2.0",
            "_model_name": "LayoutModel",
            "_view_count": null,
            "_view_module": "@jupyter-widgets/base",
            "_view_module_version": "1.2.0",
            "_view_name": "LayoutView",
            "align_content": null,
            "align_items": null,
            "align_self": null,
            "border": null,
            "bottom": null,
            "display": null,
            "flex": null,
            "flex_flow": null,
            "grid_area": null,
            "grid_auto_columns": null,
            "grid_auto_flow": null,
            "grid_auto_rows": null,
            "grid_column": null,
            "grid_gap": null,
            "grid_row": null,
            "grid_template_areas": null,
            "grid_template_columns": null,
            "grid_template_rows": null,
            "height": "25px",
            "justify_content": null,
            "justify_items": null,
            "left": null,
            "margin": null,
            "max_height": null,
            "max_width": null,
            "min_height": null,
            "min_width": null,
            "object_fit": null,
            "object_position": null,
            "order": null,
            "overflow": null,
            "overflow_x": null,
            "overflow_y": null,
            "padding": null,
            "right": null,
            "top": null,
            "visibility": null,
            "width": "300px"
          }
        },
        "cd92353029144564b95a8f177cef4ede": {
          "model_module": "@jupyter-widgets/controls",
          "model_name": "DescriptionStyleModel",
          "model_module_version": "1.5.0",
          "state": {
            "_model_module": "@jupyter-widgets/controls",
            "_model_module_version": "1.5.0",
            "_model_name": "DescriptionStyleModel",
            "_view_count": null,
            "_view_module": "@jupyter-widgets/base",
            "_view_module_version": "1.2.0",
            "_view_name": "StyleView",
            "description_width": ""
          }
        },
        "2c22c49382244a60b486e4e9fd1677e9": {
          "model_module": "@jupyter-widgets/base",
          "model_name": "LayoutModel",
          "model_module_version": "1.2.0",
          "state": {
            "_model_module": "@jupyter-widgets/base",
            "_model_module_version": "1.2.0",
            "_model_name": "LayoutModel",
            "_view_count": null,
            "_view_module": "@jupyter-widgets/base",
            "_view_module_version": "1.2.0",
            "_view_name": "LayoutView",
            "align_content": null,
            "align_items": null,
            "align_self": null,
            "border": null,
            "bottom": null,
            "display": null,
            "flex": null,
            "flex_flow": null,
            "grid_area": null,
            "grid_auto_columns": null,
            "grid_auto_flow": null,
            "grid_auto_rows": null,
            "grid_column": null,
            "grid_gap": null,
            "grid_row": null,
            "grid_template_areas": null,
            "grid_template_columns": null,
            "grid_template_rows": null,
            "height": "24px",
            "justify_content": null,
            "justify_items": null,
            "left": null,
            "margin": null,
            "max_height": null,
            "max_width": null,
            "min_height": null,
            "min_width": null,
            "object_fit": null,
            "object_position": null,
            "order": null,
            "overflow": null,
            "overflow_x": null,
            "overflow_y": null,
            "padding": null,
            "right": null,
            "top": null,
            "visibility": null,
            "width": "300px"
          }
        },
        "9d823c6ead64407a8c99faf2be3b9de0": {
          "model_module": "@jupyter-widgets/controls",
          "model_name": "DescriptionStyleModel",
          "model_module_version": "1.5.0",
          "state": {
            "_model_module": "@jupyter-widgets/controls",
            "_model_module_version": "1.5.0",
            "_model_name": "DescriptionStyleModel",
            "_view_count": null,
            "_view_module": "@jupyter-widgets/base",
            "_view_module_version": "1.2.0",
            "_view_name": "StyleView",
            "description_width": ""
          }
        }
      }
    }
  },
  "nbformat": 4,
  "nbformat_minor": 0
}